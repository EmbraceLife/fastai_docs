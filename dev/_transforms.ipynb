{
 "cells": [
  {
   "cell_type": "code",
   "execution_count": null,
   "metadata": {},
   "outputs": [],
   "source": [
    "from local.imports import *\n",
    "from local.test import *\n",
    "from local.core import *\n",
    "from local.notebook.showdoc import show_doc\n",
    "\n",
    "from types import MethodType"
   ]
  },
  {
   "cell_type": "code",
   "execution_count": null,
   "metadata": {},
   "outputs": [],
   "source": [
    "class BasicTransform():\n",
    "    def __call__(self, *args, **kwargs):\n",
    "        return self.encode(*args, **kwargs)\n",
    "    def decode  (self, *args, **kwargs):\n",
    "        return self.decode(*args, **kwargs)"
   ]
  },
  {
   "cell_type": "code",
   "execution_count": null,
   "metadata": {},
   "outputs": [],
   "source": [
    "#Apply on the tuple as a whole\n",
    "class A(BasicTransform): \n",
    "    def encode(self, x, y): return (x+y,y)\n",
    "    def decode(self, x, y): return (x-y,y)\n",
    "\n",
    "addt = A()\n",
    "t = addt(1,2)\n",
    "test_eq(t, (3,2))\n",
    "test_eq(addt.decode(*t), (1,2))"
   ]
  },
  {
   "cell_type": "code",
   "execution_count": null,
   "metadata": {},
   "outputs": [],
   "source": [
    "class TupleTransform(BasicTransform):\n",
    "    def encode(self, x, *args, **kwargs):\n",
    "        if args: return [self.encodes(x_, **kwargs) for x_ in (x,)+args]\n",
    "        return self.encodes(x, **kwargs)\n",
    "\n",
    "    def decode(self, x, *args, **kwargs):\n",
    "        if args: return [self.decodes(x_, **kwargs) for x_ in (x,)+args]\n",
    "        return self.decodes(x, **kwargs)"
   ]
  },
  {
   "cell_type": "code",
   "execution_count": null,
   "metadata": {},
   "outputs": [],
   "source": [
    "#export\n",
    "cmp_instance = functools.cmp_to_key(lambda a,b: 0 if a==b else 1 if issubclass(a,b) else -1)"
   ]
  },
  {
   "cell_type": "code",
   "execution_count": null,
   "metadata": {},
   "outputs": [],
   "source": [
    "td = {int:1, numbers.Number:2, numbers.Integral:3}\n",
    "test_eq(sorted(td, key=cmp_instance), [numbers.Number, numbers.Integral, int])"
   ]
  },
  {
   "cell_type": "code",
   "execution_count": null,
   "metadata": {},
   "outputs": [],
   "source": [
    "#export\n",
    "def _p1_anno(f):\n",
    "    \"Get the annotation of first param of `f`\"\n",
    "    ann = getattr(f,'__annotations__', None)\n",
    "    if not ann: return object\n",
    "    return next(iter(ann.values()))"
   ]
  },
  {
   "cell_type": "code",
   "execution_count": null,
   "metadata": {},
   "outputs": [],
   "source": [
    "def _f(a, b:str)->float: pass\n",
    "test_eq(_p1_anno(_f), str)\n",
    "def _f(a:int, b:int)->float: pass\n",
    "test_eq(_p1_anno(_f), int)"
   ]
  },
  {
   "cell_type": "code",
   "execution_count": null,
   "metadata": {},
   "outputs": [],
   "source": [
    "class FuncTransform(TupleTransform):\n",
    "    def __init__(self, enc=None, dec=None):\n",
    "        if enc: self.enc = enc\n",
    "        if dec: self.dec = dec\n",
    "        self.t_enc = _p1_anno(self.enc)\n",
    "        self.t_dec = _p1_anno(self.dec)\n",
    "\n",
    "    def encodes(self, x, *args, **kwargs):\n",
    "        return self.enc(x, *args, **kwargs) if isinstance(x,self.t_enc) else x\n",
    "    def decodes(self, x, *args, **kwargs):\n",
    "        return self.dec(x, *args, **kwargs) if isinstance(x,self.t_dec) else x\n",
    "\n",
    "    def enc(self, x, *args, **kwargs): return x\n",
    "    def dec(self, x, *args, **kwargs): return x"
   ]
  },
  {
   "cell_type": "code",
   "execution_count": null,
   "metadata": {},
   "outputs": [],
   "source": [
    "d = FuncTransform(operator.neg, operator.neg)\n",
    "test_eq(d(1), -1)\n",
    "test_eq(d.decode(1), -1)"
   ]
  },
  {
   "cell_type": "code",
   "execution_count": null,
   "metadata": {},
   "outputs": [],
   "source": [
    "def neg_int(x:numbers.Integral): return -x\n",
    "\n",
    "d = FuncTransform(neg_int)\n",
    "test_eq(d(1), -1)\n",
    "test_eq(d(1.), 1.)\n",
    "test_eq(d(1.,2,3.), [1.,-2,3.])\n",
    "test_eq(d.decode(1), 1)"
   ]
  },
  {
   "cell_type": "code",
   "execution_count": null,
   "metadata": {},
   "outputs": [],
   "source": [
    "class TypeDispatch:\n",
    "    \"Dictionary-like object; `__getitem__` matches keys of types using `issubclass`\"\n",
    "    def __init__(self, funcs=None):\n",
    "        self.funcs = funcs or {}\n",
    "        self._reset()\n",
    "        \n",
    "    def _reset(self):\n",
    "        self.funcs = {k:self.funcs[k] for k in sorted(self.funcs, key=cmp_instance, reverse=True)}\n",
    "        self.cache = {**self.funcs}\n",
    "        \n",
    "    def add(self, t, f):\n",
    "        \"Add type `t` and function `f`\"\n",
    "        self.funcs[t] = f\n",
    "        self._reset()\n",
    "        \n",
    "    def __repr__(self): return str(self.funcs)\n",
    "    def __getitem__(self, k):\n",
    "        \"Find first matching type that is a super-class of `k`\"\n",
    "        if k in self.cache: return self.cache[k]\n",
    "        types = [f for f in self.funcs if issubclass(k,f)]\n",
    "        res = self.funcs[types[0]] if types else None\n",
    "        self.cache[k] = res\n",
    "        return res"
   ]
  },
  {
   "cell_type": "code",
   "execution_count": null,
   "metadata": {},
   "outputs": [],
   "source": [
    "td = {int:1, numbers.Number:2, numbers.Integral:3}\n",
    "t = TypeDispatch(td)\n",
    "\n",
    "test_eq(t[int], 1)\n",
    "test_eq(t[str], None)\n",
    "test_eq(t[float], 2)\n",
    "t.add(typing.Collection, 4)\n",
    "test_eq(t[str], 4)\n",
    "test_eq(t[int], 1)"
   ]
  },
  {
   "cell_type": "code",
   "execution_count": null,
   "metadata": {},
   "outputs": [],
   "source": [
    "class TfmMeta(type):\n",
    "    def __new__(cls, name, bases, dct):\n",
    "        res = super().__new__(cls, name, bases, dct)\n",
    "        res.fs = (TypeDispatch(),TypeDispatch())\n",
    "        return res\n",
    "\n",
    "    def __call__(cls, *args, **kwargs):\n",
    "        f = args[0] if args else None\n",
    "        if isinstance(f,Callable) and f.__name__ in ('decode','encode','_'):\n",
    "            d = cls.fs[f.__name__ != 'decode']\n",
    "            d.add(_p1_anno(f) or object, f)\n",
    "            return f\n",
    "        return super().__call__(*args, **kwargs)"
   ]
  },
  {
   "cell_type": "code",
   "execution_count": null,
   "metadata": {},
   "outputs": [],
   "source": [
    "class Transform(BasicTransform, metaclass=TfmMeta):\n",
    "    def lookup(self, is_enc, x): return self.fs[is_enc][type(x)] or noops\n",
    "    \n",
    "    def _f(self, is_enc, x, *args, **kwargs):\n",
    "        f = MethodType(self.lookup(is_enc, x), self)\n",
    "        return f(x, *args, **kwargs)\n",
    "\n",
    "    def __call__(self, x, *args, **kwargs):\n",
    "        if args: return [self._f(True , x_, **kwargs) for x_ in (x,)+args]\n",
    "        return self._f(True, x, **kwargs)\n",
    "\n",
    "    def decode  (self, x, *args, **kwargs):\n",
    "        if args: return [self._f(False, x_, **kwargs) for x_ in (x,)+args]\n",
    "        return self._f(False, x, **kwargs)"
   ]
  },
  {
   "cell_type": "code",
   "execution_count": null,
   "metadata": {},
   "outputs": [],
   "source": [
    "class B(Transform): pass\n",
    "class C(Transform): pass\n",
    "b = B()\n",
    "test_eq(b(1), 1)\n",
    "\n",
    "@B\n",
    "def _(self, x:int): return x+1\n",
    "@B\n",
    "def _(self, x:str): return x+'1'\n",
    "\n",
    "b,c = B(),C()\n",
    "test_eq(b(1), 2)\n",
    "test_eq(b('1'), '11')\n",
    "test_eq(c(1), 1)\n",
    "test_eq(b.decode(2), 2)\n",
    "assert pickle.loads(pickle.dumps(b))"
   ]
  },
  {
   "cell_type": "code",
   "execution_count": null,
   "metadata": {},
   "outputs": [],
   "source": [
    "@B\n",
    "def decode(self, x:int): return x-1\n",
    "test_eq(b.decode(2), 1)\n",
    "test_eq(b.decode('2'), '2')\n",
    "start = (1.,2,3.)\n",
    "t = d(*start)\n",
    "test_eq(t, (1.,-2,3.))\n",
    "test_eq(d.decode(*t), (1.,-2,3.))"
   ]
  },
  {
   "cell_type": "code",
   "execution_count": null,
   "metadata": {},
   "outputs": [],
   "source": [
    "#Apply on all part of the tuple\n",
    "class A(Transform): pass\n",
    "@A\n",
    "def _(self, x): return x+1\n",
    "@A\n",
    "def decode(self, x): return x-1\n",
    "\n",
    "addt = A()\n",
    "t = addt(1,2)\n",
    "test_eq(t, (2,3))\n",
    "test_eq(addt.decode(*t), (1,2))"
   ]
  },
  {
   "cell_type": "code",
   "execution_count": null,
   "metadata": {},
   "outputs": [],
   "source": [
    "#Apply on all integers of the tuple\n",
    "#Also note that your tuples can have more than two elements\n",
    "class A(Transform): pass\n",
    "@A\n",
    "def _(self, x:numbers.Integral): return x+1\n",
    "@A\n",
    "def _(self, x:float): return x*3\n",
    "@A\n",
    "def decode(self, x:int): return x-1\n",
    "\n",
    "addt = A()\n",
    "start = 1.0\n",
    "t = addt(start)\n",
    "test_eq(t, 3.)\n",
    "test_eq(addt.decode(t), 3)"
   ]
  },
  {
   "cell_type": "code",
   "execution_count": null,
   "metadata": {},
   "outputs": [],
   "source": [
    "start = (1.,2,3.)\n",
    "t = addt(*start)\n",
    "test_eq(t, (3.,3,9.))\n",
    "test_eq(addt.decode(*t), (3.,2,9.))"
   ]
  },
  {
   "cell_type": "markdown",
   "metadata": {},
   "source": [
    "Using the encodes method of TensorImage in the encodes method of TensorMask\n",
    "\n",
    "It's used in PILFlip, PILDihedral and AffineCoordTfm IIRC"
   ]
  },
  {
   "cell_type": "code",
   "execution_count": null,
   "metadata": {},
   "outputs": [],
   "source": [
    "#export\n",
    "def n_params(f):\n",
    "    \"Count of positional params\"\n",
    "    return len([p for p in inspect.signature(f).parameters.values()\n",
    "                if p.default == inspect.Parameter.empty and p.kind != inspect.Parameter.VAR_KEYWORD])"
   ]
  }
 ],
 "metadata": {
  "kernelspec": {
   "display_name": "Python 3",
   "language": "python",
   "name": "python3"
  }
 },
 "nbformat": 4,
 "nbformat_minor": 2
}

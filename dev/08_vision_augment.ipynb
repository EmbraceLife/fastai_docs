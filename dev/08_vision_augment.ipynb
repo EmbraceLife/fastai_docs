{
 "cells": [
  {
   "cell_type": "code",
   "execution_count": null,
   "metadata": {},
   "outputs": [],
   "source": [
    "#default_exp vision.augment"
   ]
  },
  {
   "cell_type": "markdown",
   "metadata": {},
   "source": [
    "# Data augmentation in computer vision\n",
    "\n",
    "> Transforms that have different behavior for different parts of their input"
   ]
  },
  {
   "cell_type": "code",
   "execution_count": null,
   "metadata": {},
   "outputs": [],
   "source": [
    "#export\n",
    "from local.imports import *\n",
    "from local.test import *\n",
    "from local.core import *\n",
    "from local.data.pipeline import *\n",
    "from local.data.source import *\n",
    "from local.data.core import *\n",
    "from local.vision.core import *\n",
    "from local.data.external import *"
   ]
  },
  {
   "cell_type": "code",
   "execution_count": null,
   "metadata": {},
   "outputs": [],
   "source": [
    "#hide\n",
    "torch.cuda.set_device(int(os.environ.get('DEFAULT_GPU') or 0))"
   ]
  },
  {
   "cell_type": "markdown",
   "metadata": {},
   "source": [
    "## Transforms"
   ]
  },
  {
   "cell_type": "code",
   "execution_count": null,
   "metadata": {},
   "outputs": [],
   "source": [
    "PILImage.kwargs['cmap'] = 'Greys'"
   ]
  },
  {
   "cell_type": "code",
   "execution_count": null,
   "metadata": {},
   "outputs": [],
   "source": [
    "path = untar_data(URLs.MNIST_TINY)\n",
    "fns = get_image_files(path)\n",
    "fn = fns[0]; fn\n",
    "tmask = Maskify(func=lambda fn: Image.fromarray((array(Image.open(fn)) >= 127).astype(np.uint8)))\n",
    "pnts = np.array([[0,0], [14,5], [28,0], [0,28], [14,28], [28,28]])\n",
    "bboxes = (np.array([[0,0,7,7], [10,14,27, 27]]), ['tl', 'br'])\n",
    "\n",
    "def _lbl(x):  return pnts\n",
    "def _lbl1(x): return bboxes\n",
    "tcat = BBoxCategorize(subset_idx=[0])"
   ]
  },
  {
   "cell_type": "markdown",
   "metadata": {},
   "source": [
    "### General arch"
   ]
  },
  {
   "cell_type": "code",
   "execution_count": null,
   "metadata": {},
   "outputs": [],
   "source": [
    "class RandTransform(Transform):\n",
    "    \"A transform that randomize its state at each `__call__`\"\n",
    "    def __init__(self, encodes=None, decodes=None, randomize=None, p=1.): \n",
    "        self.p = p\n",
    "        if randomize is not None: self.randomize=randomize\n",
    "        super().__init__(encodes, decodes)\n",
    "\n",
    "    def randomize(self, b): self.do = random.random() < self.p\n",
    "    def __call__(self, b, filt=None, **kwargs): \n",
    "        self.randomize(b) #Randomize before calling\n",
    "        if not self.do: return b\n",
    "        return super().__call__(b, filt=filt, **kwargs)"
   ]
  },
  {
   "cell_type": "markdown",
   "metadata": {},
   "source": [
    "### PIL transforms"
   ]
  },
  {
   "cell_type": "code",
   "execution_count": null,
   "metadata": {},
   "outputs": [],
   "source": [
    "def _minus_axis(x, axis):\n",
    "    x[...,axis] = -x[...,axis]\n",
    "    return x\n",
    "\n",
    "class PILFlip(RandTransform):\n",
    "    def __init__(self, p=0.5): self.p = p\n",
    "    def encodes(self, x:PILImage):    return x.transpose(PIL.Image.FLIP_LEFT_RIGHT)\n",
    "    def encodes(self, x:TensorPoint): return _minus_axis(x, 0)\n",
    "    def encodes(self, x:TensorBBox):\n",
    "        bb,lbl = x\n",
    "        bb = _minus_axis(bb.view(-1,2), 0)\n",
    "        return (bb.view(-1,4),lbl)"
   ]
  },
  {
   "cell_type": "code",
   "execution_count": null,
   "metadata": {},
   "outputs": [
    {
     "data": {
      "text/plain": [
       "<matplotlib.axes._subplots.AxesSubplot at 0x7f6cb7bd3208>"
      ]
     },
     "execution_count": null,
     "metadata": {},
     "output_type": "execute_result"
    },
    {
     "data": {
      "image/png": "[encoded data removed]",
      "text/plain": [
       "<Figure size 432x288 with 1 Axes>"
      ]
     },
     "metadata": {
      "needs_background": "light"
     },
     "output_type": "display_data"
    }
   ],
   "source": [
    "tds = TfmdDS([fn], [[Imagify()], [tmask]], tuple_tfms=[PILFlip(), ImageToByteTensor()])\n",
    "tds.show_at(0)"
   ]
  },
  {
   "cell_type": "code",
   "execution_count": null,
   "metadata": {},
   "outputs": [
    {
     "data": {
      "text/plain": [
       "<matplotlib.axes._subplots.AxesSubplot at 0x7f6cb7b06438>"
      ]
     },
     "execution_count": null,
     "metadata": {},
     "output_type": "execute_result"
    },
    {
     "data": {
      "image/png": "[encoded data removed]",
      "text/plain": [
       "<Figure size 432x288 with 1 Axes>"
      ]
     },
     "metadata": {
      "needs_background": "light"
     },
     "output_type": "display_data"
    }
   ],
   "source": [
    "tds = TfmdDS([fn], [[Imagify()], [_lbl,Pointify()]], tuple_tfms=[PointScaler(), PILFlip(), ImageToByteTensor()])\n",
    "tds.show_at(0)"
   ]
  },
  {
   "cell_type": "code",
   "execution_count": null,
   "metadata": {},
   "outputs": [
    {
     "data": {
      "text/plain": [
       "<matplotlib.axes._subplots.AxesSubplot at 0x7f6cb7a68470>"
      ]
     },
     "execution_count": null,
     "metadata": {},
     "output_type": "execute_result"
    },
    {
     "data": {
      "image/png": "[encoded data removed]",
      "text/plain": [
       "<Figure size 432x288 with 1 Axes>"
      ]
     },
     "metadata": {
      "needs_background": "light"
     },
     "output_type": "display_data"
    }
   ],
   "source": [
    "tds = TfmdDS([fn], [[Imagify()], [_lbl1,BBoxify(), tcat]], tuple_tfms=[BBoxScaler(), PILFlip(), ImageToByteTensor()])\n",
    "tds.show_at(0)"
   ]
  },
  {
   "cell_type": "markdown",
   "metadata": {},
   "source": [
    "## Affine and coord tfm on the GPU"
   ]
  },
  {
   "cell_type": "code",
   "execution_count": null,
   "metadata": {},
   "outputs": [],
   "source": [
    "# export\n",
    "def clip_remove_empty(bbox, label):\n",
    "    bbox = torch.clamp(bbox, -1, 1)\n",
    "    empty = ((bbox[...,2] - bbox[...,0])*(bbox[...,3] - bbox[...,1]) < 0.)\n",
    "    if isinstance(label, torch.Tensor): label[empty] = 0\n",
    "    else:\n",
    "        for i,m in enumerate(empty):\n",
    "            if m: label[i] = 0\n",
    "    return [bbox, label]"
   ]
  },
  {
   "cell_type": "code",
   "execution_count": null,
   "metadata": {},
   "outputs": [],
   "source": [
    "class AffineCoordTfm(RandTransform):\n",
    "    \"Combine and apply random affine transforms\"\n",
    "    order = 30\n",
    "    def __init__(self, aff_tfms=None, coord_tfms=None, size=None, mode='bilinear', pad_mode='reflection'):\n",
    "        self.aff_tfms,self.coord_tfms,self.mode,self.pad_mode = L(aff_tfms),L(coord_tfms),mode,pad_mode\n",
    "        self.size = None if size is None else (size,size) if isinstance(size, int) else tuple(size)\n",
    "    \n",
    "    def randomize(self, b): \n",
    "        self.do,self.mat = True,self._get_affine_mat(b[0])[:,:2]\n",
    "        for t in self.coord_tfms: t.randomize(b[0])\n",
    "        \n",
    "    def compose(self, tfm):\n",
    "        self.aff_tfms   += tfm.aff_tfms\n",
    "        self.coord_tfms += tfm.coord_tfms\n",
    "    \n",
    "    def _get_affine_mat(self, x):\n",
    "        aff_m = torch.eye(3, dtype=x.dtype, device=x.device)\n",
    "        aff_m = aff_m.unsqueeze(0).expand(x.size(0), 3, 3)\n",
    "        ms = [tfm(x) for tfm in self.aff_tfms]\n",
    "        ms = [m for m in ms if m is not None]\n",
    "        for m in ms: aff_m = aff_m @ m\n",
    "        return aff_m\n",
    "    \n",
    "    def encodes(self, x:TensorImage):\n",
    "        if self.mat is None and len(self.coord_tfms)==0: return x\n",
    "        bs = x.size(0)\n",
    "        size = tuple(x.shape[-2:]) if self.size is None else size\n",
    "        size = (bs,x.size(1)) + size\n",
    "        coords = F.affine_grid(self.mat, size)\n",
    "        coords = compose_tfms(coords, self.coord_tfms)\n",
    "        return F.grid_sample(x, coords, mode=self.mode, padding_mode=self.pad_mode)\n",
    "    \n",
    "    def encodes(self, x:TensorMask):\n",
    "        return self._get_func(self.encodes, TensorImage)(x.float()[:,None]).long()[:,0]\n",
    "    \n",
    "    def encodes(self, x:TensorPoint):\n",
    "        x = (x - self.mat[:,:,2].unsqueeze(1)) @ torch.inverse(self.mat[:,:,:2].transpose(1,2))\n",
    "        return compose_tfms(x, self.coord_tfms, invert=True)\n",
    "    \n",
    "    def encodes(self, x:TensorBBox):\n",
    "        bbox,label = x\n",
    "        bs,n = bbox.shape[:2]\n",
    "        pnts = stack([bbox[...,:2], stack([bbox[...,0],bbox[...,3]],dim=2), \n",
    "                      stack([bbox[...,2],bbox[...,1]],dim=2), bbox[...,2:]], dim=2)\n",
    "        pnts = self._get_func(self.encodes, TensorPoint)(pnts.view(bs, 4*n, 2))\n",
    "        pnts = pnts.view(bs, n, 4, 2)\n",
    "        tl,dr = pnts.min(dim=2)[0],pnts.max(dim=2)[0]\n",
    "        return clip_remove_empty(torch.cat([tl, dr], dim=2), label)"
   ]
  },
  {
   "cell_type": "code",
   "execution_count": null,
   "metadata": {},
   "outputs": [],
   "source": [
    "# export\n",
    "from torch import stack, zeros_like as t0, ones_like as t1\n",
    "from torch.distributions.bernoulli import Bernoulli\n",
    "\n",
    "def affine_mat(*ms):\n",
    "    \"Restructure length-9 vector `ms` into an affine matrix\"\n",
    "    return stack([stack([ms[0], ms[1], ms[2]], dim=1),\n",
    "                  stack([ms[3], ms[4], ms[5]], dim=1),\n",
    "                  stack([ms[6], ms[7], ms[8]], dim=1)], dim=1)"
   ]
  },
  {
   "cell_type": "code",
   "execution_count": null,
   "metadata": {},
   "outputs": [],
   "source": [
    "def flip_affine(x, p=0.5):\n",
    "    \"Flip as an affine transform\"\n",
    "    mask = -2*x.new_empty(x.size(0)).bernoulli_(p)+1\n",
    "    return affine_mat(mask,     t0(mask), t0(mask),\n",
    "                      t0(mask), t1(mask), t0(mask),\n",
    "                      t0(mask), t0(mask), t1(mask))"
   ]
  },
  {
   "cell_type": "code",
   "execution_count": null,
   "metadata": {},
   "outputs": [],
   "source": [
    "# export\n",
    "def mask_tensor(x, p=0.5, neutral=0.):\n",
    "    if p==1.: return x\n",
    "    if neutral != 0: x.add_(-neutral)\n",
    "    mask = x.new_empty(*x.size()).bernoulli_(p)\n",
    "    x.mul_(mask)\n",
    "    return x.add_(neutral) if neutral != 0 else x"
   ]
  },
  {
   "cell_type": "code",
   "execution_count": null,
   "metadata": {},
   "outputs": [],
   "source": [
    "# export\n",
    "def masked_uniform(x, a, b, *sz, p=0.5, neutral=0.):\n",
    "    return mask_tensor(x.new_empty(*sz).uniform_(a,b), p=p, neutral=neutral)"
   ]
  },
  {
   "cell_type": "code",
   "execution_count": null,
   "metadata": {},
   "outputs": [],
   "source": [
    "# export\n",
    "def rotate(x, max_deg=10, p=0.5):\n",
    "    thetas = masked_uniform(x, -max_deg, max_deg, x.size(0), p=p) * math.pi/180\n",
    "    return affine_mat(thetas.cos(), thetas.sin(), t0(thetas),\n",
    "                     -thetas.sin(), thetas.cos(), t0(thetas),\n",
    "                      t0(thetas),   t0(thetas),   t1(thetas))"
   ]
  },
  {
   "cell_type": "code",
   "execution_count": null,
   "metadata": {},
   "outputs": [],
   "source": [
    "tds = TfmdDS([fn]*10, [[Imagify()], [tmask]], tuple_tfms=[ImageToByteTensor()])\n",
    "tdl = TfmdDL(tds, tfms=[Cuda(), ByteToFloatTensor(), AffineCoordTfm(flip_affine)], bs=9)"
   ]
  },
  {
   "cell_type": "code",
   "execution_count": null,
   "metadata": {},
   "outputs": [],
   "source": [
    "tds = TfmdDS([fn]*10, [[Imagify()], [_lbl,Pointify()]], tuple_tfms=[PointScaler(), ImageToByteTensor()])\n",
    "tdl = TfmdDL(tds, tfms=[Cuda(), ByteToFloatTensor(), AffineCoordTfm(flip_affine)], bs=9)"
   ]
  },
  {
   "cell_type": "code",
   "execution_count": null,
   "metadata": {},
   "outputs": [],
   "source": [
    "tds = TfmdDS([fn]*10, [[Imagify()], [_lbl1,BBoxify(), tcat]], tuple_tfms=[BBoxScaler(), ImageToByteTensor()])\n",
    "tdl = TfmdDL(tds, tfms=[Cuda(), ByteToFloatTensor(), AffineCoordTfm(partial(rotate, max_deg=30))], bs=9)"
   ]
  },
  {
   "cell_type": "code",
   "execution_count": null,
   "metadata": {},
   "outputs": [
    {
     "data": {
      "image/png": "[encoded data removed]",
      "text/plain": [
       "<Figure size 648x648 with 9 Axes>"
      ]
     },
     "metadata": {
      "needs_background": "light"
     },
     "output_type": "display_data"
    }
   ],
   "source": [
    "_,axs = plt.subplots(3,3, figsize=(9,9))\n",
    "tdl.show_batch(ctxs=axs.flatten())"
   ]
  },
  {
   "cell_type": "code",
   "execution_count": null,
   "metadata": {},
   "outputs": [],
   "source": [
    "def flip_dihedral(x, p=0.5): #TODO: check it works\n",
    "    idx = mask_tensor(torch.randint(0, 8, (x.size(0),), device=x.device), p=p)\n",
    "    xs = 1 - 2*(idx & 1)\n",
    "    ys = 1 - (idx & 2)\n",
    "    m0,m1 = (idx<4).long(),(idx>3).long()\n",
    "    return affine_mat(xs*m0,  xs*m1,  t0(xs),\n",
    "                      ys*m1,  ys*m0,  t0(xs),\n",
    "                      t0(xs), t0(xs), t1(xs)).float()"
   ]
  },
  {
   "cell_type": "markdown",
   "metadata": {},
   "source": [
    "### Warping"
   ]
  },
  {
   "cell_type": "code",
   "execution_count": null,
   "metadata": {},
   "outputs": [],
   "source": [
    "# export\n",
    "def find_coeffs(p1, p2):\n",
    "    matrix = []\n",
    "    p = p1[:,0,0]\n",
    "    #The equations we'll need to solve.\n",
    "    for i in range(p1.shape[1]):\n",
    "        matrix.append(stack([p2[:,i,0], p2[:,i,1], t1(p), t0(p), t0(p), t0(p), -p1[:,i,0]*p2[:,i,0], -p1[:,i,0]*p2[:,i,1]]))\n",
    "        matrix.append(stack([t0(p), t0(p), t0(p), p2[:,i,0], p2[:,i,1], t1(p), -p1[:,i,1]*p2[:,i,0], -p1[:,i,1]*p2[:,i,1]]))\n",
    "    #The 8 scalars we seek are solution of AX = B\n",
    "    A = stack(matrix).permute(2, 0, 1)\n",
    "    B = p1.view(p1.shape[0], 8, 1)\n",
    "    return torch.solve(B,A)[0]"
   ]
  },
  {
   "cell_type": "code",
   "execution_count": null,
   "metadata": {},
   "outputs": [],
   "source": [
    "# export\n",
    "def apply_perspective(coords, coeffs):\n",
    "    sz = coords.shape\n",
    "    coords = coords.view(sz[0], -1, 2)\n",
    "    coeffs = torch.cat([coeffs, t1(coeffs[:,:1])], dim=1).view(coeffs.shape[0], 3,3)\n",
    "    coords = coords @ coeffs[...,:2].transpose(1,2) + coeffs[...,2].unsqueeze(1)\n",
    "    coords.div_(coords[...,2].unsqueeze(-1))\n",
    "    return coords[...,:2].view(*sz)"
   ]
  },
  {
   "cell_type": "code",
   "execution_count": null,
   "metadata": {},
   "outputs": [],
   "source": [
    "# export\n",
    "class Warp():\n",
    "    def __init__(self, magnitude=0.2, p=0.5):\n",
    "        self.coeffs,self.magnitude,self.p = None,magnitude,p\n",
    "    \n",
    "    def randomize(self, x):\n",
    "        up_t = masked_uniform(x, -self.magnitude, self.magnitude, x.size(0), p=self.p)\n",
    "        lr_t = masked_uniform(x, -self.magnitude, self.magnitude, x.size(0), p=self.p)\n",
    "        orig_pts = torch.tensor([[-1,-1], [-1,1], [1,-1], [1,1]], dtype=x.dtype, device=x.device)\n",
    "        self.orig_pts = orig_pts.unsqueeze(0).expand(x.size(0),4,2)\n",
    "        targ_pts = stack([stack([-1-up_t, -1-lr_t]), stack([-1+up_t, 1+lr_t]), \n",
    "                          stack([ 1+up_t, -1+lr_t]), stack([ 1-up_t, 1-lr_t])])\n",
    "        self.targ_pts = targ_pts.permute(2,0,1)\n",
    "    \n",
    "    def __call__(self, x, invert=False): \n",
    "        coeffs = find_coeffs(self.targ_pts, self.orig_pts) if invert else find_coeffs(self.orig_pts, self.targ_pts)\n",
    "        return apply_perspective(x, coeffs)"
   ]
  },
  {
   "cell_type": "code",
   "execution_count": null,
   "metadata": {},
   "outputs": [],
   "source": [
    "tds = TfmdDS([fn]*10, [[Imagify()], [_lbl,Pointify()]], tuple_tfms=[PointScaler(), ImageToByteTensor()])\n",
    "tdl = TfmdDL(tds, tfms=[Cuda(), ByteToFloatTensor(), AffineCoordTfm(coord_tfms=Warp(0.4))], bs=9)"
   ]
  },
  {
   "cell_type": "code",
   "execution_count": null,
   "metadata": {},
   "outputs": [],
   "source": [
    "tds = TfmdDS([fn]*10, [[Imagify()], [_lbl1,BBoxify(), tcat]], tuple_tfms=[BBoxScaler(), ImageToByteTensor()])\n",
    "tdl = TfmdDL(tds, tfms=[Cuda(), ByteToFloatTensor(), AffineCoordTfm(coord_tfms=Warp())], bs=9)"
   ]
  },
  {
   "cell_type": "code",
   "execution_count": null,
   "metadata": {},
   "outputs": [
    {
     "data": {
      "image/png": "[encoded data removed]",
      "text/plain": [
       "<Figure size 648x648 with 9 Axes>"
      ]
     },
     "metadata": {
      "needs_background": "light"
     },
     "output_type": "display_data"
    }
   ],
   "source": [
    "_,axs = plt.subplots(3,3, figsize=(9,9))\n",
    "tdl.show_batch(ctxs=axs.flatten())"
   ]
  },
  {
   "cell_type": "code",
   "execution_count": null,
   "metadata": {},
   "outputs": [],
   "source": []
  }
 ],
 "metadata": {
  "kernelspec": {
   "display_name": "Python 3",
   "language": "python",
   "name": "python3"
  }
 },
 "nbformat": 4,
 "nbformat_minor": 2
}

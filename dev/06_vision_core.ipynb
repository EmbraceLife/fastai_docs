{
 "cells": [
  {
   "cell_type": "code",
   "execution_count": null,
   "metadata": {},
   "outputs": [],
   "source": [
    "#default_exp vision.core\n",
    "#default_cls_lvl 3"
   ]
  },
  {
   "cell_type": "code",
   "execution_count": null,
   "metadata": {},
   "outputs": [],
   "source": [
    "#export\n",
    "from local.imports import *\n",
    "from local.test import *\n",
    "from local.core import *\n",
    "from local.data.pipeline import *\n",
    "from local.data.core import *\n",
    "from local.data.external import *\n",
    "\n",
    "from PIL import Image"
   ]
  },
  {
   "cell_type": "code",
   "execution_count": null,
   "metadata": {},
   "outputs": [],
   "source": [
    "#export\n",
    "_all_ = ['Image']"
   ]
  },
  {
   "cell_type": "code",
   "execution_count": null,
   "metadata": {},
   "outputs": [],
   "source": [
    "#hide\n",
    "torch.cuda.set_device(int(os.environ.get('DEFAULT_GPU') or 0))"
   ]
  },
  {
   "cell_type": "markdown",
   "metadata": {},
   "source": [
    "# Core vision\n",
    "> Basic image opening/processing functionality"
   ]
  },
  {
   "cell_type": "markdown",
   "metadata": {},
   "source": [
    "## Basic types"
   ]
  },
  {
   "cell_type": "code",
   "execution_count": null,
   "metadata": {},
   "outputs": [
    {
     "data": {
      "text/plain": [
       "PosixPath('/home/sgugger/git/fastai_docs/dev/data/mnist_tiny/train/3/8055.png')"
      ]
     },
     "execution_count": null,
     "metadata": {},
     "output_type": "execute_result"
    }
   ],
   "source": [
    "path = untar_data(URLs.MNIST_TINY)\n",
    "fns = get_image_files(path)\n",
    "fn = fns[0]; fn"
   ]
  },
  {
   "cell_type": "code",
   "execution_count": null,
   "metadata": {},
   "outputs": [],
   "source": [
    "#export\n",
    "class PILImage():\n",
    "    kwargs = dict(cmap='viridis')\n",
    "    @staticmethod\n",
    "    def show(o, ctx=None, **kwargs): return show_image(o, ctx=ctx, **{**PILImage.kwargs, **kwargs})"
   ]
  },
  {
   "cell_type": "code",
   "execution_count": null,
   "metadata": {},
   "outputs": [],
   "source": [
    "#export\n",
    "class Imagify(Transform):\n",
    "    \"Open an `Image` from path `fn`\"\n",
    "    def __init__(self, func=Image.open):  self.func = func\n",
    "    def encodes(self, fn)->PILImage: return self.func(fn)"
   ]
  },
  {
   "cell_type": "code",
   "execution_count": null,
   "metadata": {},
   "outputs": [
    {
     "data": {
      "image/png": "[encoded data removed]",
      "text/plain": [
       "<PIL.PngImagePlugin.PngImageFile image mode=L size=28x28 at 0x7FBC27544278>"
      ]
     },
     "execution_count": null,
     "metadata": {},
     "output_type": "execute_result"
    }
   ],
   "source": [
    "timg = Imagify()\n",
    "img = timg(fn)\n",
    "test_eq(img.size, (28,28))\n",
    "img"
   ]
  },
  {
   "cell_type": "code",
   "execution_count": null,
   "metadata": {},
   "outputs": [],
   "source": [
    "#export\n",
    "class Mask(PILImage):\n",
    "    kwargs = dict(cmap='tab20', alpha=0.5)\n",
    "    @staticmethod\n",
    "    def show(o, ctx=None, **kwargs): return show_image(o, ctx=ctx, **{**Mask.kwargs, **kwargs})"
   ]
  },
  {
   "cell_type": "code",
   "execution_count": null,
   "metadata": {},
   "outputs": [],
   "source": [
    "#export\n",
    "class Maskify(Transform):\n",
    "    \"Open an `Image` from path `fn`\"\n",
    "    def __init__(self, func=Image.open): self.func = func\n",
    "    def encodes(self, fn)->Mask: return self.func(fn)"
   ]
  },
  {
   "cell_type": "code",
   "execution_count": null,
   "metadata": {},
   "outputs": [],
   "source": [
    "tmask = Maskify(func=lambda fn: Image.fromarray((array(Image.open(fn)) >= 127).astype(np.uint8)))\n",
    "mask = tmask(fn)\n",
    "test_eq(mask.size, (28,28))"
   ]
  },
  {
   "cell_type": "code",
   "execution_count": null,
   "metadata": {},
   "outputs": [],
   "source": [
    "# export\n",
    "class TensorPoint():\n",
    "    kwargs = dict(s=10, marker='.', c='r')\n",
    "    @staticmethod\n",
    "    def show(o, ctx=None, **kwargs): \n",
    "        if 'figsize' in kwargs: del kwargs['figsize']\n",
    "        ctx.scatter(o[:, 1], o[:, 0], **{**TensorPoint.kwargs, **kwargs})\n",
    "        return ctx"
   ]
  },
  {
   "cell_type": "code",
   "execution_count": null,
   "metadata": {},
   "outputs": [],
   "source": [
    "# export\n",
    "class Pointify(Transform):\n",
    "    def encodes(self, t)->TensorPoint: return tensor(t).view(-1, 2).float()"
   ]
  },
  {
   "cell_type": "code",
   "execution_count": null,
   "metadata": {},
   "outputs": [],
   "source": [
    "pnts = np.array([[0,0], [14,0], [28,0], [0,28], [14,28], [28,28]])\n",
    "tpnts = Pointify()(pnts)\n",
    "test_eq(tpnts.shape, [6,2])\n",
    "test_eq(tpnts.dtype, torch.float32)"
   ]
  },
  {
   "cell_type": "code",
   "execution_count": null,
   "metadata": {},
   "outputs": [],
   "source": [
    "# export\n",
    "from fastai.vision.data import get_annotations\n",
    "from matplotlib import patches, patheffects\n",
    "\n",
    "def _draw_outline(o, lw):\n",
    "    o.set_path_effects([patheffects.Stroke(linewidth=lw, foreground='black'), patheffects.Normal()])\n",
    "\n",
    "def _draw_rect(ax, b, color='white', text=None, text_size=14, hw=True, rev=False):\n",
    "    lx,ly,w,h = b\n",
    "    if rev: lx,ly,w,h = ly,lx,h,w\n",
    "    if not hw: w,h = w-lx,h-ly\n",
    "    patch = ax.add_patch(patches.Rectangle((lx,ly), w, h, fill=False, edgecolor=color, lw=2))\n",
    "    _draw_outline(patch, 4)\n",
    "    if text is not None:\n",
    "        patch = ax.text(lx,ly, text, verticalalignment='top', color=color, fontsize=text_size, weight='bold')\n",
    "        _draw_outline(patch,1)"
   ]
  },
  {
   "cell_type": "code",
   "execution_count": null,
   "metadata": {},
   "outputs": [],
   "source": [
    "# export\n",
    "class TensorBBox(TensorPoint):\n",
    "    @staticmethod\n",
    "    def show(x, ctx=None, **kwargs):\n",
    "        bbox,label = x\n",
    "        for b,l in zip(bbox, label): \n",
    "            if l != '#bg': _draw_rect(ctx, b, hw=False, rev=True, text=l)\n",
    "        return ctx"
   ]
  },
  {
   "cell_type": "code",
   "execution_count": null,
   "metadata": {},
   "outputs": [],
   "source": [
    "# export\n",
    "class BBoxify(Transform):\n",
    "    def encodes(self, x)->TensorBBox: return (tensor(x[0]).view(-1, 4).float(),x[1])"
   ]
  },
  {
   "cell_type": "code",
   "execution_count": null,
   "metadata": {},
   "outputs": [],
   "source": [
    "bboxes = (np.array([[0,0,7,7], [10,14,27, 27]]), ['tl', 'br'])\n",
    "tbbs = BBoxify()(bboxes)"
   ]
  },
  {
   "cell_type": "markdown",
   "metadata": {},
   "source": [
    "## Functions"
   ]
  },
  {
   "cell_type": "code",
   "execution_count": null,
   "metadata": {},
   "outputs": [],
   "source": [
    "#export\n",
    "class ImageConverter(Transform):\n",
    "    \"Convert `img` to `mode`\"\n",
    "    def __init__(self, mode='RGB', mask_mode='L'): self.modes = (mode,mask_mode)\n",
    "    def encodes(self, o:PILImage): return o.convert(self.modes[0])\n",
    "    def encodes(self, o:Mask):     return o.convert(self.modes[1])"
   ]
  },
  {
   "cell_type": "code",
   "execution_count": null,
   "metadata": {},
   "outputs": [],
   "source": [
    "f = ImageConverter('RGB')\n",
    "f.accept_types(PILImage)\n",
    "test_eq(f(img).mode, 'RGB')\n",
    "f.accept_types(Mask)\n",
    "test_eq(f(mask).mode, 'L')"
   ]
  },
  {
   "cell_type": "code",
   "execution_count": null,
   "metadata": {},
   "outputs": [],
   "source": [
    "#export\n",
    "def image_resize(img, size, resample=Image.BILINEAR):\n",
    "    \"Resize image to `size` using `resample\"\n",
    "    return img.resize(size, resample=resample)\n",
    "image_resize.order=10"
   ]
  },
  {
   "cell_type": "code",
   "execution_count": null,
   "metadata": {},
   "outputs": [],
   "source": [
    "#export\n",
    "class ImageResizer(Transform):\n",
    "    \"Resize image to `size` using `resample\"\n",
    "    def __init__(self, size, resample=Image.BILINEAR):\n",
    "        if not is_listy(size): size=(size,size)\n",
    "        self.size,self.resample = size,resample\n",
    "\n",
    "    def encodes(self, o:PILImage): return image_resize(o, size=self.size, resample=self.resample)"
   ]
  },
  {
   "cell_type": "code",
   "execution_count": null,
   "metadata": {},
   "outputs": [],
   "source": [
    "f = ImageResizer(14)\n",
    "f.accept_types(PILImage)\n",
    "test_eq(f(img).size, (14,14))\n",
    "f.accept_types(Mask)\n",
    "test_eq(f(mask).size, (14,14))"
   ]
  },
  {
   "cell_type": "code",
   "execution_count": null,
   "metadata": {},
   "outputs": [],
   "source": [
    "# export\n",
    "def image2byte(img):\n",
    "    \"Transform image to byte tensor in `c*h*w` dim order.\"\n",
    "    res = torch.ByteTensor(torch.ByteStorage.from_buffer(img.tobytes()))\n",
    "    w,h = img.size\n",
    "    return res.view(h,w,-1).permute(2,0,1)"
   ]
  },
  {
   "cell_type": "code",
   "execution_count": null,
   "metadata": {},
   "outputs": [],
   "source": [
    "#export\n",
    "class ImageToByteTensor(Transform):\n",
    "    \"Transform image to byte tensor in `c*h*w` dim order.\"\n",
    "    order = 15\n",
    "    def encodes(self, o:PILImage)->TensorImage: return image2byte(o)\n",
    "    def encodes(self, o:Mask)    ->TensorMask:  return image2byte(o)[0]"
   ]
  },
  {
   "cell_type": "code",
   "execution_count": null,
   "metadata": {},
   "outputs": [],
   "source": [
    "tfm = ImageToByteTensor()\n",
    "tfm.accept_types(PILImage)\n",
    "test_eq(tfm(img).shape, (1,28,28))\n",
    "test_eq(tfm.return_type(), TensorImage)\n",
    "tfm.accept_types(Mask)\n",
    "test_eq(tfm(mask).shape, (28,28))\n",
    "test_eq(tfm.return_type(), TensorMask)"
   ]
  },
  {
   "cell_type": "markdown",
   "metadata": {},
   "source": [
    "Let's confirm we can pipeline this with `Imagify`."
   ]
  },
  {
   "cell_type": "code",
   "execution_count": null,
   "metadata": {},
   "outputs": [
    {
     "data": {
      "image/png": "[encoded data removed]",
      "text/plain": [
       "<Figure size 72x72 with 1 Axes>"
      ]
     },
     "metadata": {
      "needs_background": "light"
     },
     "output_type": "display_data"
    }
   ],
   "source": [
    "pipe_img = Pipeline([Imagify(), ImageToByteTensor()])\n",
    "img = pipe_img(fn)\n",
    "test_eq(img.shape, (1,28,28))\n",
    "PILImage.kwargs['cmap'] = 'Greys'\n",
    "pipe_img.show(img, figsize=(1,1));"
   ]
  },
  {
   "cell_type": "code",
   "execution_count": null,
   "metadata": {},
   "outputs": [
    {
     "data": {
      "image/png": "[encoded data removed]",
      "text/plain": [
       "<Figure size 72x72 with 1 Axes>"
      ]
     },
     "metadata": {
      "needs_background": "light"
     },
     "output_type": "display_data"
    }
   ],
   "source": [
    "pipe_mask = Pipeline([tmask, ImageToByteTensor()])\n",
    "mask = pipe_mask(fn)\n",
    "test_eq(mask.shape, (28,28))\n",
    "pipe_mask.show(mask, figsize=(1,1));"
   ]
  },
  {
   "cell_type": "code",
   "execution_count": null,
   "metadata": {},
   "outputs": [
    {
     "data": {
      "image/png": "[encoded data removed]",
      "text/plain": [
       "<Figure size 72x72 with 1 Axes>"
      ]
     },
     "metadata": {
      "needs_background": "light"
     },
     "output_type": "display_data"
    }
   ],
   "source": [
    "ax = pipe_img.show(img, figsize=(1,1));\n",
    "pipe_mask.show(mask, ctx=ax);"
   ]
  },
  {
   "cell_type": "code",
   "execution_count": null,
   "metadata": {},
   "outputs": [],
   "source": [
    "# export\n",
    "class PointScaler(Transform):\n",
    "    def __init__(self, do_scale=True, y_first=False): self.do_scale,self.y_first = do_scale,y_first\n",
    "    \n",
    "    def encodes(self, x, y:TensorPoint):\n",
    "        sz = x.shape[-2:] if isinstance(x, Tensor) else [x.size[1],x.size[0]]\n",
    "        if self.do_scale: y = y * 2/tensor(sz).float() - 1\n",
    "        if not self.y_first: y = y.flip(1)\n",
    "        return (x,y)\n",
    "    \n",
    "    def decodes(self, x, y:TensorPoint):\n",
    "        y = y.flip(1)\n",
    "        sz = x.shape[-2:] if isinstance(x, Tensor) else [x.size[1],x.size[0]]\n",
    "        y = (y+1) * tensor([x.shape[-2:]]).float()/2\n",
    "        return (x,y)"
   ]
  },
  {
   "cell_type": "code",
   "execution_count": null,
   "metadata": {},
   "outputs": [],
   "source": [
    "def _lbl(x): return pnts\n",
    "tds = TfmdDS([fn], [[Imagify(), ImageToByteTensor()], [_lbl,Pointify()]], tuple_tfms=PointScaler())"
   ]
  },
  {
   "cell_type": "code",
   "execution_count": null,
   "metadata": {},
   "outputs": [],
   "source": [
    "x,y = tds[0]\n",
    "#Scaling and flipping properly done\n",
    "test_eq(y, tensor([[-1., -1.], [-1.,  0.], [-1.,  1.], [ 1., -1.], [ 1.,  0.], [ 1.,  1.]]))\n",
    "a,b = tds.decode((x,y))\n",
    "test_eq(b, tensor(pnts).float())"
   ]
  },
  {
   "cell_type": "code",
   "execution_count": null,
   "metadata": {},
   "outputs": [
    {
     "data": {
      "image/png": "[encoded data removed]",
      "text/plain": [
       "<Figure size 144x144 with 1 Axes>"
      ]
     },
     "metadata": {
      "needs_background": "light"
     },
     "output_type": "display_data"
    }
   ],
   "source": [
    "tds.show_at(0, figsize=(2,2));"
   ]
  },
  {
   "cell_type": "code",
   "execution_count": null,
   "metadata": {},
   "outputs": [],
   "source": [
    "def _lbl(x): return pnts\n",
    "tds = TfmdDS([fn], [[Imagify()], [_lbl,Pointify()]], tuple_tfms=[PointScaler(), ImageToByteTensor()])"
   ]
  },
  {
   "cell_type": "code",
   "execution_count": null,
   "metadata": {},
   "outputs": [],
   "source": [
    "x,y = tds[0]\n",
    "#Scaling and flipping properly done\n",
    "test_eq(y, tensor([[-1., -1.], [-1.,  0.], [-1.,  1.], [ 1., -1.], [ 1.,  0.], [ 1.,  1.]]))\n",
    "a,b = tds.decode((x,y))\n",
    "test_eq(b, tensor(pnts).float())"
   ]
  },
  {
   "cell_type": "code",
   "execution_count": null,
   "metadata": {},
   "outputs": [
    {
     "data": {
      "image/png": "[encoded data removed]",
      "text/plain": [
       "<Figure size 144x144 with 1 Axes>"
      ]
     },
     "metadata": {
      "needs_background": "light"
     },
     "output_type": "display_data"
    }
   ],
   "source": [
    "tds.show_at(0, figsize=(2,2));"
   ]
  },
  {
   "cell_type": "code",
   "execution_count": null,
   "metadata": {},
   "outputs": [],
   "source": [
    "# export\n",
    "class BBoxScaler(Transform):\n",
    "    def __init__(self): \n",
    "        self.scale = PointScaler()\n",
    "        self.scale.accept_types([TensorImage, TensorPoint])\n",
    "        \n",
    "    def encodes(self, x, y:TensorBBox): \n",
    "        return (x,(self.scale((x,y[0].view(-1,2)))[1].view(-1,4),y[1]))\n",
    "    \n",
    "    def decodes(self, x, y:TensorBBox):    \n",
    "        _,bbox = self.scale.decode((x,y[0].view(-1,2)))\n",
    "        return (x, (bbox.view(-1,4), y[1]))"
   ]
  },
  {
   "cell_type": "code",
   "execution_count": null,
   "metadata": {},
   "outputs": [],
   "source": [
    "#Fails\n",
    "#class BBoxScaler(PointScaler):\n",
    "#    def encodes(self, x:TensorImage, y:TensorBBox): \n",
    "#        return (x,(super().__call__((x,y[0].view(-1,2)))[1].view(-1,4),y[1]))\n",
    "#    \n",
    "#    def decodes(self, x:TensorImage, y:TensorBBox):    \n",
    "#        _,bbox = super().decode((x,y[0].view(-1,2)))\n",
    "#        return (x, (bbox.view(-1,4), y[1]))"
   ]
  },
  {
   "cell_type": "code",
   "execution_count": null,
   "metadata": {},
   "outputs": [],
   "source": [
    "# export\n",
    "class BBoxCategorize(Transform):\n",
    "    \"Reversible transform of category string to `vocab` id\"\n",
    "    order,state_args=1,'vocab'\n",
    "    def __init__(self, vocab=None, subset_idx=None):\n",
    "        self.vocab,self.subset_idx = vocab,subset_idx\n",
    "        self.o2i = None if vocab is None else {v:k for k,v in enumerate(vocab)}\n",
    "        \n",
    "    def setup(self, dsrc):\n",
    "        if not dsrc: return\n",
    "        dsrc = dsrc.train if self.subset_idx is None else dsrc.subset(self.subset_idx)\n",
    "        vals = set()\n",
    "        for b,c in dsrc: vals = vals.union(set(c))\n",
    "        self.vocab,self.otoi = uniqueify(list(vals), sort=True, bidir=True, start='#bg')\n",
    "\n",
    "    def encodes(self, o): return (o[0],tensor([self.otoi[o_] for o_ in o[1] if o_ in self.otoi]))\n",
    "    def decodes(self, i): return (i[0],[self.vocab[i_] for i_ in i[1]])"
   ]
  },
  {
   "cell_type": "code",
   "execution_count": null,
   "metadata": {},
   "outputs": [],
   "source": [
    "def _lbl1(x): return bboxes\n",
    "tcat = BBoxCategorize(subset_idx=[0])\n",
    "tds = TfmdDS([fn], [[Imagify(), ImageToByteTensor()], [_lbl1,BBoxify(), tcat]], tuple_tfms=BBoxScaler())"
   ]
  },
  {
   "cell_type": "code",
   "execution_count": null,
   "metadata": {},
   "outputs": [],
   "source": [
    "x,y = tds[0]"
   ]
  },
  {
   "cell_type": "code",
   "execution_count": null,
   "metadata": {},
   "outputs": [
    {
     "data": {
      "text/plain": [
       "(tensor([[-1.0000, -1.0000, -0.5000, -0.5000],\n",
       "         [ 0.0000, -0.2857,  0.9286,  0.9286]]), (#2) [2,1])"
      ]
     },
     "execution_count": null,
     "metadata": {},
     "output_type": "execute_result"
    }
   ],
   "source": [
    "y"
   ]
  },
  {
   "cell_type": "code",
   "execution_count": null,
   "metadata": {},
   "outputs": [],
   "source": [
    "x,y = tds[0]\n",
    "#Scaling and flipping properly done\n",
    "test_close(y[0], tensor([[-1, -1, -0.5, -0.5],[0, -1+10/14, -1+27/14, -1+27/14]]))\n",
    "test_eq(y[1], [2,1])\n",
    "a,b = tds.decode((x,y))\n",
    "test_close(b[0], tensor(bboxes[0]).float())\n",
    "test_eq(b[1], bboxes[1])"
   ]
  },
  {
   "cell_type": "code",
   "execution_count": null,
   "metadata": {},
   "outputs": [
    {
     "data": {
      "text/plain": [
       "<matplotlib.axes._subplots.AxesSubplot at 0x7fd66c2f7e48>"
      ]
     },
     "execution_count": null,
     "metadata": {},
     "output_type": "execute_result"
    },
    {
     "data": {
      "image/png": "[encoded data removed]",
      "text/plain": [
       "<Figure size 432x288 with 1 Axes>"
      ]
     },
     "metadata": {
      "needs_background": "light"
     },
     "output_type": "display_data"
    }
   ],
   "source": [
    "tds.show_at(0)"
   ]
  },
  {
   "cell_type": "code",
   "execution_count": null,
   "metadata": {},
   "outputs": [],
   "source": [
    "tds = TfmdDS([fn], [[Imagify()], [_lbl1,BBoxify(), tcat]], tuple_tfms=[BBoxScaler(), ImageToByteTensor()])"
   ]
  },
  {
   "cell_type": "code",
   "execution_count": null,
   "metadata": {},
   "outputs": [],
   "source": [
    "x,y = tds[0]\n",
    "#Scaling and flipping properly done\n",
    "test_close(y[0], tensor([[-1, -1, -0.5, -0.5],[0, -1+10/14, -1+27/14, -1+27/14]]))\n",
    "test_eq(y[1], [2,1])\n",
    "a,b = tds.decode((x,y))\n",
    "test_close(b[0], tensor(bboxes[0]).float())\n",
    "test_eq(b[1], bboxes[1])"
   ]
  },
  {
   "cell_type": "code",
   "execution_count": null,
   "metadata": {},
   "outputs": [
    {
     "data": {
      "text/plain": [
       "<matplotlib.axes._subplots.AxesSubplot at 0x7fd66cb2f400>"
      ]
     },
     "execution_count": null,
     "metadata": {},
     "output_type": "execute_result"
    },
    {
     "data": {
      "image/png": "[encoded data removed]",
      "text/plain": [
       "<Figure size 432x288 with 1 Axes>"
      ]
     },
     "metadata": {
      "needs_background": "light"
     },
     "output_type": "display_data"
    }
   ],
   "source": [
    "tds.show_at(0)"
   ]
  },
  {
   "cell_type": "markdown",
   "metadata": {},
   "source": [
    "## Export -"
   ]
  },
  {
   "cell_type": "code",
   "execution_count": null,
   "metadata": {},
   "outputs": [
    {
     "name": "stdout",
     "output_type": "stream",
     "text": [
      "Converted 00_test.ipynb.\n",
      "Converted 01_core.ipynb.\n",
      "Converted 02_data_pipeline.ipynb.\n",
      "Converted 03_data_external.ipynb.\n",
      "Converted 04_data_core.ipynb.\n",
      "Converted 05_data_source.ipynb.\n",
      "Converted 06_vision_core.ipynb.\n",
      "Converted 07_pets_tutorial-meta.ipynb.\n",
      "Converted 07_pets_tutorial.ipynb.\n",
      "Converted 08_vision_augment.ipynb.\n",
      "Converted 10_layers.ipynb.\n",
      "Converted 11_optimizer.ipynb.\n",
      "Converted 12_learner.ipynb.\n",
      "Converted 13_callback_schedule.ipynb.\n",
      "Converted 14_callback_hook.ipynb.\n",
      "Converted 15_callback_progress.ipynb.\n",
      "Converted 16_callback_tracker.ipynb.\n",
      "Converted 17_callback_fp16.ipynb.\n",
      "Converted 90_notebook_core.ipynb.\n",
      "Converted 91_notebook_export.ipynb.\n",
      "Converted 92_notebook_showdoc.ipynb.\n",
      "Converted 93_notebook_export2html.ipynb.\n",
      "Converted 94_index.ipynb.\n",
      "Converted 95_synth_learner.ipynb.\n"
     ]
    }
   ],
   "source": [
    "#hide\n",
    "from local.notebook.export import notebook2script\n",
    "notebook2script(all_fs=True)"
   ]
  },
  {
   "cell_type": "code",
   "execution_count": null,
   "metadata": {},
   "outputs": [],
   "source": []
  }
 ],
 "metadata": {
  "kernelspec": {
   "display_name": "Python 3",
   "language": "python",
   "name": "python3"
  }
 },
 "nbformat": 4,
 "nbformat_minor": 2
}
